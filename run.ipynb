{
 "cells": [
  {
   "cell_type": "code",
   "execution_count": 4,
   "id": "a3b12f66-b2d3-446b-b814-a8459e433798",
   "metadata": {
    "tags": []
   },
   "outputs": [
    {
     "name": "stderr",
     "output_type": "stream",
     "text": [
      ".......E...\n",
      "======================================================================\n",
      "ERROR: test_data_cleaning (test_module.DataCleaningTestCase.test_data_cleaning)\n",
      "----------------------------------------------------------------------\n",
      "Traceback (most recent call last):\n",
      "  File \"C:\\Users\\Heath Montgomery\\Documents\\GitHub\\boilerplate-page-view-time-series-visualizer\\test_module.py\", line 7, in test_data_cleaning\n",
      "    actual = int(time_series_visualizer.df.count(numeric_only=True))\n",
      "             ^^^^^^^^^^^^^^^^^^^^^^^^^^^^^^^^^^^^^^^^^^^^^^^^^^^^^^^\n",
      "  File \"C:\\ProgramData\\Anaconda3\\Lib\\site-packages\\pandas\\core\\series.py\", line 230, in wrapper\n",
      "    raise TypeError(f\"cannot convert the series to {converter}\")\n",
      "TypeError: cannot convert the series to <class 'int'>\n",
      "\n",
      "----------------------------------------------------------------------\n",
      "Ran 11 tests in 2.651s\n",
      "\n",
      "FAILED (errors=1)\n"
     ]
    }
   ],
   "source": [
    "!python main.py"
   ]
  },
  {
   "cell_type": "code",
   "execution_count": null,
   "id": "e1f741bd-63ad-4121-88f0-e1fc1fc9c1cd",
   "metadata": {},
   "outputs": [],
   "source": []
  },
  {
   "cell_type": "code",
   "execution_count": null,
   "id": "f3126552-20ef-4052-be2a-ca1132d9e9f8",
   "metadata": {},
   "outputs": [],
   "source": []
  }
 ],
 "metadata": {
  "kernelspec": {
   "display_name": "Python 3 (ipykernel)",
   "language": "python",
   "name": "python3"
  },
  "language_info": {
   "codemirror_mode": {
    "name": "ipython",
    "version": 3
   },
   "file_extension": ".py",
   "mimetype": "text/x-python",
   "name": "python",
   "nbconvert_exporter": "python",
   "pygments_lexer": "ipython3",
   "version": "3.11.5"
  }
 },
 "nbformat": 4,
 "nbformat_minor": 5
}
