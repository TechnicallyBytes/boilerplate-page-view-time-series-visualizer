{
 "cells": [
  {
   "cell_type": "code",
   "execution_count": 2,
   "id": "8f43fb0b-96fc-4c95-a7fb-8d715d225e33",
   "metadata": {},
   "outputs": [],
   "source": [
    "import matplotlib.pyplot as plt\n",
    "import pandas as pd\n",
    "import seaborn as sns\n",
    "from pandas.plotting import register_matplotlib_converters\n",
    "register_matplotlib_converters()"
   ]
  },
  {
   "cell_type": "markdown",
   "id": "2148dd1c-7ed9-42a5-ae43-3d13b625f9a0",
   "metadata": {
    "tags": []
   },
   "source": [
    "Use Pandas to import the data from \"fcc-forum-pageviews.csv\". Set the index to the date column."
   ]
  },
  {
   "cell_type": "code",
   "execution_count": 4,
   "id": "7d3d327f-2685-48e6-8491-bf190e26b963",
   "metadata": {
    "tags": []
   },
   "outputs": [
    {
     "name": "stdout",
     "output_type": "stream",
     "text": [
      "             value\n",
      "date              \n",
      "2016-05-09    1201\n",
      "2016-05-10    2329\n",
      "2016-05-11    1716\n",
      "2016-05-12   10539\n",
      "2016-05-13    6933\n",
      "...            ...\n",
      "2019-11-29  171584\n",
      "2019-11-30  141161\n",
      "2019-12-01  142918\n",
      "2019-12-02  220144\n",
      "2019-12-03  158549\n",
      "\n",
      "[1304 rows x 1 columns]\n"
     ]
    }
   ],
   "source": [
    "# Import data (Make sure to parse dates. Consider setting index column to 'date'.)\n",
    "df = pd.read_csv('fcc-forum-pageviews.csv', parse_dates=['date'], index_col='date')\n",
    "\n"
   ]
  },
  {
   "cell_type": "markdown",
   "id": "1894dc06-34dd-444d-ba37-a308b23dac37",
   "metadata": {},
   "source": [
    "Clean the data by filtering out days when the page views were in the top 2.5% of the dataset or bottom 2.5% of the dataset."
   ]
  },
  {
   "cell_type": "code",
   "execution_count": 9,
   "id": "4ade5e95-b083-473c-a84f-112a033a358b",
   "metadata": {
    "tags": []
   },
   "outputs": [
    {
     "name": "stdout",
     "output_type": "stream",
     "text": [
      "             value\n",
      "date              \n",
      "2016-06-17   21691\n",
      "2016-06-18   21681\n",
      "2016-06-20   28508\n",
      "2016-06-21   26805\n",
      "2016-06-25   21923\n",
      "...            ...\n",
      "2019-11-03  130118\n",
      "2019-11-09  115642\n",
      "2019-11-10  117717\n",
      "2019-11-16  125634\n",
      "2019-11-17  131639\n",
      "\n",
      "[1176 rows x 1 columns]\n"
     ]
    }
   ],
   "source": [
    "# Clean data\n",
    "df = df[\n",
    "        (df['value'] >= df['value'].quantile(0.025))&\n",
    "        (df['value'] <= df['value'].quantile(0.975))\n",
    "        ]\n",
    "\n",
    "print(df)"
   ]
  },
  {
   "cell_type": "markdown",
   "id": "82ab64b2-79a5-40ea-a46c-c3ecbeac24bc",
   "metadata": {},
   "source": [
    "Create a draw_line_plot function that uses Matplotlib to draw a line chart similar to \"examples/Figure_1.png\". The title should be Daily freeCodeCamp Forum Page Views 5/2016-12/2019. The label on the x axis should be Date and the label on the y axis should be Page Views."
   ]
  },
  {
   "cell_type": "code",
   "execution_count": null,
   "id": "f0489ece-11da-4039-b375-53159641a88e",
   "metadata": {},
   "outputs": [],
   "source": [
    "def draw_line_plot():\n",
    "    df_line_plot = df.copy()\n",
    "    \n",
    "    font = {'family': 'serif',\n",
    "        'color':  'black',\n",
    "        'weight': 'normal',\n",
    "        'size': 16\n",
    "        }\n",
    "    \n",
    "    # Draw line plot\n",
    "    fig, ax = plt.subplots(figsize=(20, 10))\n",
    "    ax.plot(df_line_plot, color='red')\n",
    "    ax.set_xlabel('Date', fontdict=font)\n",
    "    ax.set_ylabel('Page Views', fontdict=font)\n",
    "    ax.set_title('Daily freeCodeCamp Forum Page Views 5/2016-12/2019', fontdict=font)\n",
    "    \n",
    "    \n",
    "    # Save image and return fig (don't change this part)\n",
    "    fig.savefig('line_plot.png')\n",
    "    return fig\n",
    "\n"
   ]
  },
  {
   "cell_type": "markdown",
   "id": "fef5d673-96d5-4f56-9bd6-565a81f4bd0a",
   "metadata": {},
   "source": [
    "Create a draw_bar_plot function that draws a bar chart similar to \"examples/Figure_2.png\". It should show average daily page views for each month grouped by year. The legend should show month labels and have a title of Months. On the chart, the label on the x axis should be Years and the label on the y axis should be Average Page Views."
   ]
  },
  {
   "cell_type": "code",
   "execution_count": null,
   "id": "69a0c4ef-e0ee-4901-90fe-74304d2fd9df",
   "metadata": {},
   "outputs": [],
   "source": [
    "def draw_bar_plot():\n",
    "    # Copy and modify data for monthly bar plot\n",
    "    df_bar = df.copy()\n",
    "    df_bar['Years'] = df_bar.index.year\n",
    "    df_bar['Months'] = df_bar.index.month_name()\n",
    "    df_bar = df_bar.groupby(['Years', 'Months']).mean()\n",
    "    df_bar = df_bar.rename(columns={\"value\": \"Average Page Views\"})\n",
    "    df_bar = df_bar.reset_index()\n",
    "\n",
    "    # Fix missing values for Jan through April of 2016 and concat with df_bar\n",
    "    missing = {\n",
    "           \"Years\": [2016, 2016, 2016, 2016],\n",
    "           \"Months\": ['January', 'February', 'March', 'April'],\n",
    "           \"Average Page Views\": [0, 0, 0, 0]}\n",
    "    missing_months = pd.DataFrame(missing)\n",
    "    df_bar = pd.concat([missing_months, df_bar], ignore_index=False, sort=False, axis=0)\n",
    "\n",
    "    # Draw bar plot    \n",
    "    fig = sns.catplot(data=df_bar, kind='bar', x='Years', y='Average Page Views', hue='Months', palette = 'bright')\n",
    "    \n",
    "    # Save image and return fig (don't change this part)\n",
    "    fig.savefig('bar_plot.png')\n",
    "    return fig\n"
   ]
  },
  {
   "cell_type": "markdown",
   "id": "d4695c4b-d61f-41cf-9a49-7253b03479a9",
   "metadata": {},
   "source": [
    "Create a draw_box_plot function that uses Seaborn to draw two adjacent box plots similar to \"examples/Figure_3.png\". These box plots should show how the values are distributed within a given year or month and how it compares over time. The title of the first chart should be Year-wise Box Plot (Trend) and the title of the second chart should be Month-wise Box Plot (Seasonality). Make sure the month labels on bottom start at Jan and the x and y axis are labeled correctly. The boilerplate includes commands to prepare the data."
   ]
  },
  {
   "cell_type": "code",
   "execution_count": null,
   "id": "54e10624-031f-4526-8ed6-a9f0186f47ce",
   "metadata": {},
   "outputs": [],
   "source": [
    "def draw_box_plot():\n",
    "    # Prepare data for box plots (this part is done!)\n",
    "    df_box = df.copy()\n",
    "    df_box.reset_index(inplace=True)\n",
    "    df_box['year'] = [d.year for d in df_box.date]\n",
    "    df_box['month'] = [d.strftime('%b') for d in df_box.date]\n",
    "\n",
    "    \n",
    "    \n",
    "\n",
    "    # Draw box plots (using Seaborn)\n",
    "    fig, axes = plt.subplots(nrows=1, ncols=2, figsize = (20,6))\n",
    "\n",
    "    axes[0] = sns.boxplot(x='year', y='value', ax=axes[0], data=df_box)\n",
    "    axes[0].set_xlabel('Year')\n",
    "    axes[0].set_ylabel('Page Views')\n",
    "    axes[0].set_title('Year-wise Box Plot (Trend)')\n",
    "\n",
    "    axes[1] = sns.boxplot(x='month', y='value', ax=axes[1], data=df_box,order=['Jan', 'Feb', 'Mar', 'Apr', 'May', 'Jun', 'Jul', 'Aug', 'Sep', 'Oct', 'Nov', 'Dec'])\n",
    "    axes[1].set_xlabel('Month')\n",
    "    axes[1].set_ylabel('Page Views')\n",
    "    axes[1].set_title('Month-wise Box Plot (Trend)')\n",
    "\n",
    "\n",
    "\n",
    "    # Save image and return fig (don't change this part)\n",
    "    fig.savefig('box_plot.png')\n",
    "    return fig\n",
    "\n"
   ]
  },
  {
   "cell_type": "code",
   "execution_count": null,
   "id": "01938c61-a120-44ba-b9c7-6a54b05ba2ab",
   "metadata": {},
   "outputs": [],
   "source": []
  }
 ],
 "metadata": {
  "kernelspec": {
   "display_name": "Python 3 (ipykernel)",
   "language": "python",
   "name": "python3"
  },
  "language_info": {
   "codemirror_mode": {
    "name": "ipython",
    "version": 3
   },
   "file_extension": ".py",
   "mimetype": "text/x-python",
   "name": "python",
   "nbconvert_exporter": "python",
   "pygments_lexer": "ipython3",
   "version": "3.11.5"
  }
 },
 "nbformat": 4,
 "nbformat_minor": 5
}
